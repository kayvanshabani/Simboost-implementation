{
 "cells": [
  {
   "cell_type": "markdown",
   "metadata": {},
   "source": [
    "# Project Phase 1 \n",
    "## SimBoost\n",
    "\n",
    "\n",
    "#### Name: kayvan shabani\n",
    "#### Student No.: 95106375\n",
    "\n",
    "Drug discovery is a time-consuming, laborious, costly and high-risk process. According to a report by the Eastern Research Group (ERG), it usually takes 10-15 years to develop a new drug. However, the success rate of developing a new molecular entity is only 2.01%. \\\n",
    "Finding a compound that selectively binds to a particular protein is a highly challenging and typically expensive procedure in the drug development process. \\\n",
    "In this project we are going to implement [SimBoost](https://www.ncbi.nlm.nih.gov/pmc/articles/PMC5395521/#CR42) which is machine-learning approch for predicting drug–target binding affinities using gradient boosting.\n",
    "\n",
    "\n"
   ]
  },
  {
   "cell_type": "markdown",
   "metadata": {},
   "source": [
    "We will be using [Davis](http://staff.cs.utu.fi/~aatapa/data/DrugTarget/) dataset, which contains selectivity assays of the kinase protein family and the relevant inhibitors with their respective dissociation constant (Kd) values. It comprises interactions of 442 proteins and 68 drugs."
   ]
  },
  {
   "cell_type": "markdown",
   "metadata": {},
   "source": [
    "## 1. Setup"
   ]
  },
  {
   "cell_type": "markdown",
   "metadata": {},
   "source": [
    "### 1.1 Imports libs"
   ]
  },
  {
   "cell_type": "code",
   "execution_count": null,
   "metadata": {},
   "outputs": [],
   "source": [
    "import numpy as np\n",
    "import pandas as pd\n",
    "from sklearn.model_selection import train_test_split\n",
    "import matplotlib.pyplot as plt"
   ]
  },
  {
   "cell_type": "markdown",
   "metadata": {},
   "source": [
    "### 1.2 Loading data"
   ]
  },
  {
   "cell_type": "markdown",
   "metadata": {},
   "source": [
    "We need following files for this project:\n",
    "- `target_gene_names.txt`: gene names of the targets\n",
    "- `drug_PubChem_CIDs.txt`: PubChem CIDs of the drugs\n",
    "- `drug-drug_similarities_2D.txt`: drug-drug structural fingerprint similarities computed the Structure Clustering sever at PubChem\n",
    "- `target-target_similarities_WS_normalized.txt`: target-target sequence similarities computed with the normalized versions of the Smith-Waterman (SW) score.\n",
    "- `drug-target_interaction_affinities_Kd__Davis_et_al.2011.txt`: drug-target interaction affinities.\n",
    "\n",
    "The rows (and columns) of the drug-drug similarity matrices correspond to the rows of the interaction affinity matrix and the rows (and columns) of the target-target similarity matrices correspond to the columns of the interaction affinity matrix."
   ]
  },
  {
   "cell_type": "code",
   "execution_count": null,
   "metadata": {},
   "outputs": [],
   "source": [
    "target_gene_names = pd.read_csv(\"target_gene_names.txt\", header=None, index_col = 0)\n",
    "drug_pubchemIDs = pd.read_csv(\"drug_PubChem_CIDs.txt\", header=None, index_col = 0) #  dtype=str\n",
    "\n",
    "#################################################################################\n",
    "sim_targets = pd.read_csv(\"target-target_similarities_WS_normalized.txt\" , header=None, sep=r\"\\s+\")\n",
    "\n",
    "sim_targets.index = target_gene_names.index\n",
    "sim_targets.columns = target_gene_names.index\n",
    "sim_drugs = pd.read_csv(\"drug-drug_similarities_2D.txt\", header=None, sep=r\"\\s+\")\n",
    "sim_drugs.index = drug_pubchemIDs.index\n",
    "sim_drugs.columns = drug_pubchemIDs.index\n",
    "bindings = pd.read_csv(\"drug-target_interaction_affinities_Kd__Davis_et_al.2011.txt\", header=None, sep=r\"\\s+\")\n",
    "bindings.index = drug_pubchemIDs.index\n",
    "bindings.columns = target_gene_names.index\n",
    "\n",
    "sim_targets.shape, sim_drugs.shape, bindings.shape"
   ]
  },
  {
   "cell_type": "markdown",
   "metadata": {},
   "source": [
    "### 1.3 Preprocessing"
   ]
  },
  {
   "cell_type": "markdown",
   "metadata": {},
   "source": [
    "In davis dataset, standard value is Kd in nM. we used the transformation below:\n",
    "\n",
    "### $pK_{d}=-log_{10}\\frac{K_d}{1e9}$ \n"
   ]
  },
  {
   "cell_type": "code",
   "execution_count": null,
   "metadata": {},
   "outputs": [],
   "source": [
    "drug_pubchemIDs.sort_index(inplace=True)\n",
    "target_gene_names.sort_index(inplace=True)\n",
    "\n",
    "sim_targets.sort_index(inplace=True)\n",
    "sim_drugs.sort_index(inplace=True)\n",
    "bindings.sort_index(inplace=True)\n",
    "sim_targets = sim_targets/100\n",
    "#sim_drugs = None\n",
    "transformed_bindings = (-1)*np.log10(bindings/1000000000)\n",
    "\n",
    "transformed_bindings.head()"
   ]
  },
  {
   "cell_type": "code",
   "execution_count": null,
   "metadata": {},
   "outputs": [],
   "source": [
    "\n",
    "x = transformed_bindings.stack()\n",
    "binsnum = np.unique(x.get_values()).size\n",
    "x.plot.hist(bins=binsnum)\n"
   ]
  },
  {
   "cell_type": "markdown",
   "metadata": {},
   "source": [
    "As you can see in histogram. The peak at pKd value 5 (10000 nM), These values correspond to the negative pairs that either have very weak binding affinities (Kd > 10000nM) or are not observed in the primary screen."
   ]
  },
  {
   "cell_type": "markdown",
   "metadata": {},
   "source": [
    "### 1.4 Drug-Target-Binding"
   ]
  },
  {
   "cell_type": "code",
   "execution_count": null,
   "metadata": {},
   "outputs": [],
   "source": [
    "products = {'Product': ['Tablet','iPhone','Laptop','Monitor'],\n",
    "            'Price': [250,800,1200,300]\n",
    "            }\n",
    "\n",
    "df = pd.DataFrame(products, columns= ['Product', 'Price'])\n",
    "df"
   ]
  },
  {
   "cell_type": "code",
   "execution_count": null,
   "metadata": {},
   "outputs": [],
   "source": [
    "\n",
    "drug_target_binding = pd.DataFrame(transformed_bindings.stack().to_frame().set_index(0, append=True).index.tolist(), \n",
    "                                   index=transformed_bindings.stack().to_frame().set_index(0, append=True).index.tolist(),\n",
    "                                   columns=['Drug', 'Target', 'Binding_Val'])\n",
    "\n",
    "drug_target_binding.head()"
   ]
  },
  {
   "cell_type": "code",
   "execution_count": null,
   "metadata": {},
   "outputs": [],
   "source": [
    "temp1 = pd.concat([target_gene_names]*68)\n",
    "\n",
    "res = pd.concat([drug_target_binding.reset_index(drop=True), temp1.reset_index(drop=True)], axis=1)\n",
    "res = res.sort_values(by=['Target', 'Drug'])\n",
    "temp2 = pd.concat([drug_pubchemIDs]*442)\n",
    "res = pd.concat([res.reset_index(drop=True), temp2.reset_index(drop=True)], axis=1)\n",
    "res = res.sort_values(by=['Drug','Target'])\n",
    "res.index = drug_target_binding.index\n",
    "res"
   ]
  },
  {
   "cell_type": "code",
   "execution_count": null,
   "metadata": {},
   "outputs": [],
   "source": [
    "test = pd.DataFrame({\n",
    "    'id' : ['a', 'b', 'c', 'd'],\n",
    "    'times' : [2, 3, 1, 5]\n",
    "    })\n",
    "\n",
    "pd.concat([test]*2)"
   ]
  },
  {
   "cell_type": "markdown",
   "metadata": {},
   "source": [
    "### 1.5 Train, Validation and Test Datasets"
   ]
  },
  {
   "cell_type": "code",
   "execution_count": null,
   "metadata": {
    "scrolled": true
   },
   "outputs": [],
   "source": [
    "\n",
    "\n",
    "split1 = train_test_split(drug_target_binding, test_size = 0.3)\n",
    "train_data = split1[0]\n",
    "split2 = train_test_split(split1[1], test_size = 0.3)\n",
    "val_data = split2[0]\n",
    "test_data = split2[1]\n",
    "\n",
    "train_data.head()"
   ]
  },
  {
   "cell_type": "markdown",
   "metadata": {},
   "source": [
    "## 2.Feature Engineering "
   ]
  },
  {
   "cell_type": "markdown",
   "metadata": {},
   "source": [
    "In this part we are going to extract some feature for each target/drug. after that we will replace these features with their names/pubchemIDs. "
   ]
  },
  {
   "cell_type": "markdown",
   "metadata": {},
   "source": [
    "### 2.1 Average Similarities and Binding values"
   ]
  },
  {
   "cell_type": "code",
   "execution_count": null,
   "metadata": {},
   "outputs": [],
   "source": [
    "\n",
    "new = train_data[['Target','Binding_Val']].groupby('Target').mean()\n",
    "target_gene_names['avg-binding'] = new\n",
    "target_gene_names['avg-sim'] = sim_targets.mean(axis=1)\n",
    "\n",
    "print(target_gene_names.mean())\n",
    "target_gene_names.head()\n"
   ]
  },
  {
   "cell_type": "code",
   "execution_count": null,
   "metadata": {},
   "outputs": [],
   "source": [
    "\n",
    "new = train_data[['Drug','Binding_Val']].groupby('Drug').mean()\n",
    "drug_pubchemIDs['avg-binding'] = new\n",
    "drug_pubchemIDs['avg-sim'] = sim_drugs.mean(axis = 1)\n",
    "\n",
    "drug_pubchemIDs.head()"
   ]
  },
  {
   "cell_type": "markdown",
   "metadata": {},
   "source": [
    "### 2.2 Drug/Target Similarity Networks"
   ]
  },
  {
   "cell_type": "markdown",
   "metadata": {},
   "source": [
    "#### 2.2.1 Build Networks"
   ]
  },
  {
   "cell_type": "markdown",
   "metadata": {},
   "source": [
    "I build two networks one for drugs and another one for targets. The nodes are drugs or targets, and an edge between two nodes exists if their similarity is above a threshold. \\\n",
    "For building networks, we are going to use [igraph](https://igraph.org/) package. "
   ]
  },
  {
   "cell_type": "code",
   "execution_count": null,
   "metadata": {},
   "outputs": [],
   "source": [
    "import igraph"
   ]
  },
  {
   "cell_type": "code",
   "execution_count": null,
   "metadata": {},
   "outputs": [],
   "source": [
    "\n",
    "drug_sim_threshold = 0.56\n",
    "target_sim_threshold = 0.51\n",
    "\n",
    "targetonezero = sim_targets.copy()\n",
    "targetonezero.values[[np.arange(targetonezero.shape[0])]*2] = 0\n",
    "targetonezero = targetonezero.where(targetonezero >= target_sim_threshold,0)\n",
    "targetonezero = targetonezero.where(targetonezero < target_sim_threshold,1)\n",
    "\n",
    "drugonezero = sim_drugs.copy()\n",
    "drugonezero.values[[np.arange(drugonezero.shape[0])]*2] = 0\n",
    "drugonezero = drugonezero.where(drugonezero >= drug_sim_threshold,0)\n",
    "drugonezero = drugonezero.where(drugonezero < drug_sim_threshold,1)\n",
    "\n",
    "drug_graph = igraph.Graph.Adjacency(drugonezero.values.tolist())\n",
    "target_graph = igraph.Graph.Adjacency(targetonezero.values.tolist())\n",
    "\n",
    "igraph.plot(drug_graph)\n"
   ]
  },
  {
   "cell_type": "markdown",
   "metadata": {},
   "source": [
    "i computed average of that columns and used average for threshhold"
   ]
  },
  {
   "cell_type": "markdown",
   "metadata": {},
   "source": [
    "#### 2.2.2 Number of neighbors, PageRank"
   ]
  },
  {
   "cell_type": "code",
   "execution_count": null,
   "metadata": {},
   "outputs": [],
   "source": [
    "\n",
    "\n",
    "drug_pubchemIDs['n_neighbors'] = drugonezero.sum(axis = 1)\n",
    "drug_pubchemIDs['page_rank'] = drug_graph.pagerank()\n",
    "\n",
    "target_gene_names['n_neighbors'] = targetonezero.sum(axis = 1)\n",
    "target_gene_names['page_rank'] = target_graph.pagerank()\n",
    "\n",
    "target_gene_names.head()"
   ]
  },
  {
   "cell_type": "markdown",
   "metadata": {},
   "source": [
    "### 2.3 Non-negative Matrix Factorization"
   ]
  },
  {
   "cell_type": "markdown",
   "metadata": {},
   "source": [
    "For extracting features from binding affinity matrix we are going to use [Non-negative Matrix Factorization](https://en.wikipedia.org/wiki/Non-negative_matrix_factorization). \n",
    "\n",
    "In NMF, we are trying to approximately factor a matrix $B ∈ R_+^{d×t}$ (binding affinity matrix of d drugs and t targets) into two matrices $P ∈ R_+^{k×d}$ and $Q ∈ R_+^{k×t}$ which  $B = P^TQ$\n",
    "\n",
    "The columns of the factor matrices P and Q are utilized as parts of the feature vectors for the drugs and targets respectively."
   ]
  },
  {
   "cell_type": "code",
   "execution_count": null,
   "metadata": {},
   "outputs": [],
   "source": [
    "from sklearn.decomposition import NMF"
   ]
  },
  {
   "cell_type": "code",
   "execution_count": null,
   "metadata": {},
   "outputs": [],
   "source": [
    "\n",
    "latent_dim = 5\n",
    "train_binding_matrix = train_data.pivot_table(columns='Target', index='Drug', values='Binding_Val')\n",
    "train_binding_matrix = train_binding_matrix.fillna(5)\n",
    "\n",
    "train_binding_matrix.head()"
   ]
  },
  {
   "cell_type": "code",
   "execution_count": null,
   "metadata": {},
   "outputs": [],
   "source": [
    "train_binding_matrix.columns"
   ]
  },
  {
   "cell_type": "code",
   "execution_count": null,
   "metadata": {},
   "outputs": [],
   "source": [
    "\n",
    "nmf = NMF(n_components=latent_dim)\n",
    "P = nmf.fit_transform(train_binding_matrix);\n",
    "Q = nmf.components_;\n",
    "#nR = np.dot(P,Q)\n",
    "#nR\n",
    "drug_pubchemIDs = pd.concat([drug_pubchemIDs.reset_index(drop=True),pd.DataFrame(data=P).reset_index(drop=True)], axis=1)\n",
    "drug_pubchemIDs.index = train_binding_matrix.index\n",
    "drug_pubchemIDs.columns = ['avg-binding-drug', 'avg-sim-drug','n_neighbors-drug','page_rank-drug','0-drug','1-drug','2-drug','3-drug','4-drug']\n",
    "\n",
    "target_gene_names = pd.concat([target_gene_names.reset_index(drop=True),pd.DataFrame(data=Q.T).reset_index(drop=True)], axis=1)\n",
    "target_gene_names.index = train_binding_matrix.columns\n",
    "target_gene_names.columns = ['avg-binding-target', 'avg-sim-target','n_neighbors-target','page_rank-target','0-target','1-target','2-target','3-target','4-target']\n",
    "\n",
    "target_gene_names.head()"
   ]
  },
  {
   "cell_type": "code",
   "execution_count": null,
   "metadata": {},
   "outputs": [],
   "source": [
    "#drug_pubchemIDs.columns = ['avg-binding-drug', 'avg-sim-drug','n_neighbors-drug','page_rank-drug','0-drug','1-drug','2-drug','3-drug','4-drug']\n",
    "drug_pubchemIDs.head()"
   ]
  },
  {
   "cell_type": "markdown",
   "metadata": {},
   "source": [
    "### 2.4 Building Train, Validation and Test Dataset using extracted features"
   ]
  },
  {
   "cell_type": "code",
   "execution_count": null,
   "metadata": {},
   "outputs": [],
   "source": [
    "\n",
    "temp1 = pd.concat([target_gene_names]*68)\n",
    "X = pd.concat([drug_target_binding.reset_index(drop=True), temp1.reset_index(drop=True)], axis=1)\n",
    "X = X.sort_values(by=['Target', 'Drug'])\n",
    "temp2 = pd.concat([drug_pubchemIDs]*442)\n",
    "X = pd.concat([X.reset_index(drop=True), temp2.reset_index(drop=True)], axis=1)\n",
    "X.index = drug_target_binding.index\n",
    "\n",
    "##balancing data for further steps\n",
    "repeatsize = np.size(np.where(X['Binding_Val'] <= 7))//np.size(np.where(X['Binding_Val'] > 7))\n",
    "temp = pd.concat([X.iloc[np.where(X['Binding_Val'] > 7)]] * (repeatsize-1))\n",
    "X = pd.concat([X, temp], axis=0, ignore_index=True)\n",
    "##\n",
    "\n",
    "X = X.sort_values(by=['Drug','Target'])\n",
    "\n",
    "\n",
    "fX = X\n",
    "\n",
    "Y = X.loc[:, 'Binding_Val']\n",
    "X = X.loc[:, 'avg-binding-target':'4-drug']\n",
    "\n",
    "split1 = train_test_split(X, test_size = 0.3)\n",
    "X_train = split1[0]\n",
    "split2 = train_test_split(split1[1], test_size = 0.3)\n",
    "X_val = split2[0]\n",
    "X_test = split2[1]\n",
    "\n",
    "split1 = train_test_split(Y, test_size = 0.3)\n",
    "Y_train = split1[0]\n",
    "split2 = train_test_split(split1[1], test_size = 0.3)\n",
    "Y_val = split2[0]\n",
    "Y_test = split2[1]\n",
    "\n",
    "X_train.shape, Y_train.shape, X_val.shape, Y_val.shape, X_test.shape, Y_test.shape"
   ]
  },
  {
   "cell_type": "markdown",
   "metadata": {},
   "source": [
    "## 3.XGboost "
   ]
  },
  {
   "cell_type": "markdown",
   "metadata": {},
   "source": [
    "To predict the continuous binding affinity for drug–target pairs, we will use [XGBoost](https://xgboost.readthedocs.io/en/latest/) library. \n",
    "\n",
    "I WILL tune following hyperparameters:\n",
    "- `learning_rate`: Boosting learning rate\n",
    "- `n_estimators`: Number of gradient boosted trees.\n",
    "- `max_depth `: Maximum tree depth for base learners.\n",
    "- `colsample_bytree`: Subsample ratio of columns when constructing each tree.\n",
    "- `subsample`: Subsample ratio of the training instance.\n",
    "\n",
    "\n",
    "\n",
    "\n",
    "Note: `drug_sim_threshold`, `target_sim_threshold` and `latent_dim` in Feature Engineering part can be viewed as hyperparameters too."
   ]
  },
  {
   "cell_type": "code",
   "execution_count": null,
   "metadata": {},
   "outputs": [],
   "source": [
    "import xgboost\n",
    "from sklearn.metrics import mean_squared_error"
   ]
  },
  {
   "cell_type": "markdown",
   "metadata": {},
   "source": [
    "### 3.1 Tune Hyperparameters"
   ]
  },
  {
   "cell_type": "code",
   "execution_count": null,
   "metadata": {},
   "outputs": [],
   "source": [
    "def plot_model_results(results):\n",
    "    epochs = len(results['validation_0']['rmse'])\n",
    "    x_axis = range(0, epochs)\n",
    "    fig, ax = plt.subplots()\n",
    "    ax.plot(x_axis, results['validation_0']['rmse'], label='Train')\n",
    "    ax.plot(x_axis, results['validation_1']['rmse'], label='Validation')\n",
    "    ax.legend()\n",
    "    plt.ylabel('RMSE')\n",
    "    plt.show()"
   ]
  },
  {
   "cell_type": "code",
   "execution_count": null,
   "metadata": {},
   "outputs": [],
   "source": [
    "\n",
    "learning_rate = 0.1\n",
    "n_estimators = 1000\n",
    "max_depth = 7\n",
    "colsample_bytree = 0.7\n",
    "subsample = 0.7\n",
    "\n",
    "model = xgboost.XGBRegressor(objective ='reg:linear', learning_rate = learning_rate, \n",
    "                             colsample_bytree = colsample_bytree,\n",
    "                             max_depth = max_depth, \n",
    "                             subsample = subsample, \n",
    "                             n_estimators = n_estimators,\n",
    "                             eval_metric='rmse')\n",
    "\n",
    "model.fit(X_train,Y_train, eval_metric=\"rmse\", \n",
    "          eval_set=[(X_train, Y_train), (X_val, Y_val)],\n",
    "          verbose=False)\n",
    "\n",
    "\n",
    "validation_rmse = np.sqrt(mean_squared_error(Y_val, model.predict(X_val)))\n",
    "\n",
    "print(\"Validation RMSE: %.3f\" % validation_rmse)\n",
    "plot_model_results(model.evals_result())"
   ]
  },
  {
   "cell_type": "markdown",
   "metadata": {},
   "source": [
    "### 3.2 Ploting Feature importance"
   ]
  },
  {
   "cell_type": "code",
   "execution_count": null,
   "metadata": {},
   "outputs": [],
   "source": [
    "xgboost.plot_importance(model);"
   ]
  },
  {
   "cell_type": "markdown",
   "metadata": {},
   "source": [
    "### 3.2 Evaluation"
   ]
  },
  {
   "cell_type": "markdown",
   "metadata": {},
   "source": [
    "Let's make our perdiction binary. either a drug is binded to target or not, I will use $pK_d$ > 7 threshold as binded (drug-target) pair."
   ]
  },
  {
   "cell_type": "code",
   "execution_count": null,
   "metadata": {},
   "outputs": [],
   "source": [
    "from sklearn.metrics import confusion_matrix\n",
    "\n",
    "test_rmse = np.sqrt(mean_squared_error(Y_test, model.predict(X_test)))\n",
    "\n",
    "\n",
    "\n",
    "testpred = np.where(model.predict(X_test) > 7, 1, 0)\n",
    "testreal = np.where(Y_test > 7, 1, 0)\n",
    "\n",
    "conf = confusion_matrix(testreal, testpred)\n",
    "\n",
    "test_acc = (conf[0,0] + conf[1,1])/testreal.shape[0]\n",
    "test_percision = conf[1,1]/(conf[0,1] + conf[1,1])\n",
    "test_recall = conf[1,1]/(conf[1,0] + conf[1,1])\n",
    "test_f1 = 2*(test_percision*test_recall)/(test_percision + test_recall)\n",
    "\n",
    "\n",
    "print(\"Test RMSE: %.3f\" % test_rmse)\n",
    "print(\"Test Accuracy: %.3f\" % test_acc)\n",
    "print(\"Test Percision: %.3f\" % test_percision)\n",
    "print(\"Test Recall: %.3f\" % test_recall)\n",
    "print(\"Test F1-Score: %.3f\" % test_f1)\n",
    "conf"
   ]
  },
  {
   "cell_type": "markdown",
   "metadata": {},
   "source": [
    "## 4.Classification"
   ]
  },
  {
   "cell_type": "markdown",
   "metadata": {},
   "source": [
    "I will change Binding values to binary values with threshold $pK_d$ > 7 \n",
    "and use X_train to train\n",
    "\n"
   ]
  },
  {
   "cell_type": "code",
   "execution_count": null,
   "metadata": {},
   "outputs": [],
   "source": [
    "Y_train = np.where(Y_train > 7, 1, 0)\n",
    "Y_test = np.where(Y_test > 7, 1, 0)\n",
    "Y_val = np.where(Y_val > 7, 1, 0)"
   ]
  },
  {
   "cell_type": "code",
   "execution_count": null,
   "metadata": {},
   "outputs": [],
   "source": [
    "from sklearn.ensemble import RandomForestClassifier\n",
    "modelrf = RandomForestClassifier()\n",
    "modelrf.fit(X_train, Y_train)\n",
    "conf = confusion_matrix(Y_test, modelrf.predict(X_test))\n",
    "\n",
    "test_acc = (conf[0,0] + conf[1,1])/testreal.shape[0]\n",
    "test_percision = conf[1,1]/(conf[0,1] + conf[1,1])\n",
    "test_recall = conf[1,1]/(conf[1,0] + conf[1,1])\n",
    "test_f1 = 2*(test_percision*test_recall)/(test_percision + test_recall)\n",
    "\n",
    "print(\"Test Accuracy: %.3f\" % test_acc)\n",
    "print(\"Test Percision: %.3f\" % test_percision)\n",
    "print(\"Test Recall: %.3f\" % test_recall)\n",
    "print(\"Test F1-Score: %.3f\" % test_f1)"
   ]
  }
 ],
 "metadata": {
  "kernelspec": {
   "display_name": "Python 3",
   "language": "python",
   "name": "python3"
  },
  "language_info": {
   "codemirror_mode": {
    "name": "ipython",
    "version": 3
   },
   "file_extension": ".py",
   "mimetype": "text/x-python",
   "name": "python",
   "nbconvert_exporter": "python",
   "pygments_lexer": "ipython3",
   "version": "3.7.6"
  }
 },
 "nbformat": 4,
 "nbformat_minor": 4
}
